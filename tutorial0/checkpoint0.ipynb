{
 "cells": [
  {
   "cell_type": "markdown",
   "id": "7167f9d6",
   "metadata": {
    "colab_type": "text",
    "id": "0a8IYAJUshu1"
   },
   "source": [
    "# Checkpoint 0 "
   ]
  },
  {
   "cell_type": "markdown",
   "id": "4cfbb7fc",
   "metadata": {},
   "source": [
    "These exercises are a mix of Python and Pandas practice. Most should be no more than a few lines of code! \n",
    "\n",
    "Do not remove comments that start with: \"# @@@\" (Those are question tags)"
   ]
  },
  {
   "cell_type": "code",
   "execution_count": 1,
   "id": "936dd8ea",
   "metadata": {
    "colab": {},
    "colab_type": "code",
    "id": "Jo6wuTgkshu1"
   },
   "outputs": [
    {
     "data": {
      "text/plain": [
       "[1, 2, 3, 4, 5, 6]"
      ]
     },
     "execution_count": 1,
     "metadata": {},
     "output_type": "execute_result"
    }
   ],
   "source": [
    "# @@@ Question 1: Here is a python list, initialize another list called b with the same values as a.\n",
    "a = [1, 2, 3, 4, 5, 6]\n",
    "b = a\n",
    "b\n"
   ]
  },
  {
   "cell_type": "code",
   "execution_count": 2,
   "id": "779d96b1",
   "metadata": {},
   "outputs": [
    {
     "data": {
      "text/plain": [
       "[4, 5, 6]"
      ]
     },
     "execution_count": 2,
     "metadata": {},
     "output_type": "execute_result"
    }
   ],
   "source": [
    "# @@@ Question 2: get a list containing the last 3 elements of b \n",
    "# Yes, you can just type out [4, 5, 6] but we really want to see you demonstrate you know how to use list slicing in Python\n",
    "\n",
    "b_last_3 = b[3:]\n",
    "b_last_3\n"
   ]
  },
  {
   "cell_type": "code",
   "execution_count": 5,
   "id": "b6a54def",
   "metadata": {},
   "outputs": [
    {
     "data": {
      "text/plain": [
       "[1, 2, 3, 4, 5, 6, 7, 8, 9, 10, 11, 12, 13, 14, 15, 16, 17, 18, 19, 20]"
      ]
     },
     "execution_count": 5,
     "metadata": {},
     "output_type": "execute_result"
    }
   ],
   "source": [
    "# @@@ Question 3: Create a list of numbers from 1 to 20\n",
    "one_to_twenty = list(range(1,21))\n",
    "one_to_twenty\n"
   ]
  },
  {
   "cell_type": "code",
   "execution_count": 18,
   "id": "487873ac",
   "metadata": {},
   "outputs": [
    {
     "data": {
      "text/plain": [
       "[2,\n",
       " 4,\n",
       " 6,\n",
       " 8,\n",
       " 10,\n",
       " 12,\n",
       " 14,\n",
       " 16,\n",
       " 18,\n",
       " 20,\n",
       " 22,\n",
       " 24,\n",
       " 26,\n",
       " 28,\n",
       " 30,\n",
       " 32,\n",
       " 34,\n",
       " 36,\n",
       " 38,\n",
       " 40,\n",
       " 42,\n",
       " 44,\n",
       " 46,\n",
       " 48,\n",
       " 50,\n",
       " 52,\n",
       " 54,\n",
       " 56,\n",
       " 58,\n",
       " 60,\n",
       " 62,\n",
       " 64,\n",
       " 66,\n",
       " 68,\n",
       " 70,\n",
       " 72,\n",
       " 74,\n",
       " 76,\n",
       " 78,\n",
       " 80,\n",
       " 82,\n",
       " 84,\n",
       " 86,\n",
       " 88,\n",
       " 90,\n",
       " 92,\n",
       " 94,\n",
       " 96,\n",
       " 98,\n",
       " 100]"
      ]
     },
     "execution_count": 18,
     "metadata": {},
     "output_type": "execute_result"
    }
   ],
   "source": [
    "# @@@ Question 4: now get a list with only the even numbers between 1 and 100\n",
    "zero_to_hundred = list(range(0,101))\n",
    "even_zero_to_hundred = zero_to_hundred[::2]\n",
    "even_zero_to_hundred.pop(0)\n",
    "even_one_to_hundred = even_zero_to_hundred\n",
    "even_one_to_hundred\n",
    "\n",
    "\n",
    "\n"
   ]
  },
  {
   "cell_type": "code",
   "execution_count": 22,
   "id": "3d4bb5dd",
   "metadata": {},
   "outputs": [
    {
     "name": "stdout",
     "output_type": "stream",
     "text": [
      "0.5\n"
     ]
    }
   ],
   "source": [
    "# @@@ Question 5: write a function that takes two numbers as arguments\n",
    "# and returns the first number divided by the second\n",
    "\n",
    "def diviser(num_one, num_two):\n",
    "    result = num_one / num_two\n",
    "    print(result)\n",
    "    \n",
    "diviser(1,2)"
   ]
  },
  {
   "cell_type": "code",
   "execution_count": 30,
   "id": "f55df04e",
   "metadata": {},
   "outputs": [
    {
     "name": "stdout",
     "output_type": "stream",
     "text": [
      "1\n",
      "2\n",
      "fizz\n",
      "4\n",
      "buzz\n",
      "fizz\n",
      "7\n",
      "8\n",
      "fizz\n",
      "buzz\n",
      "11\n",
      "fizz\n",
      "13\n",
      "14\n",
      "fizzbuzz\n",
      "16\n",
      "17\n",
      "fizz\n",
      "19\n",
      "buzz\n",
      "fizz\n",
      "22\n",
      "23\n",
      "fizz\n",
      "buzz\n",
      "26\n",
      "fizz\n",
      "28\n",
      "29\n",
      "fizzbuzz\n"
     ]
    }
   ],
   "source": [
    "# @@@ Queston 6: fizzbuzz\n",
    "# you will need to use both iteration and control flow \n",
    "# go through all numbers from 1 to 30 in order\n",
    "# if the number is a multiple of 3, print fizz\n",
    "# if the number is a multiple of 5, print buzz\n",
    "# if the number is a multiple of 3 and 5, print fizzbuzz and NOTHING ELSE\n",
    "# if the number is neither a multiple of 3 nor a multiple of 5, print the number\n",
    "\n",
    "nums = list(range(1,31))\n",
    "\n",
    "for i in range(len(nums)):\n",
    "    \n",
    "    if nums[i] % 3 == 0:\n",
    "        if nums[i] % 5 == 0:\n",
    "            print(\"fizzbuzz\")\n",
    "        else:\n",
    "            print(\"fizz\")\n",
    "    elif nums[i] % 5 == 0:\n",
    "        if nums[i] % 3 == 0:\n",
    "            print(\"fizzbuzz\")\n",
    "        else:\n",
    "            print(\"buzz\")\n",
    "    else:\n",
    "        print(nums[i])\n",
    "        \n"
   ]
  },
  {
   "cell_type": "code",
   "execution_count": 33,
   "id": "78aace0b",
   "metadata": {},
   "outputs": [
    {
     "data": {
      "text/plain": [
       "{'Gyro': 9, 'Burger': 9, 'Greek Salad': 8, 'Philly Steak': 10}"
      ]
     },
     "execution_count": 33,
     "metadata": {},
     "output_type": "execute_result"
    }
   ],
   "source": [
    "# @@@ Question 7: create a dictionary that reflects the following menu pricing (taken from Ahmo's)\n",
    "# Gyro: $9 \n",
    "# Burger: $9\n",
    "# Greek Salad: $8\n",
    "# Philly Steak: $10\n",
    "\n",
    "ahmos_menu = {\"Gyro\":9, \"Burger\":9, \"Greek Salad\":8, \"Philly Steak\":10}\n",
    "ahmos_menu"
   ]
  },
  {
   "cell_type": "code",
   "execution_count": 36,
   "id": "1962078d",
   "metadata": {
    "colab": {},
    "colab_type": "code",
    "id": "WzCQ5HOJshvA"
   },
   "outputs": [
    {
     "data": {
      "text/plain": [
       "pandas.core.frame.DataFrame"
      ]
     },
     "execution_count": 36,
     "metadata": {},
     "output_type": "execute_result"
    }
   ],
   "source": [
    "# @@@ Question 8: load in the \"starbucks.csv\" dataset\n",
    "# refer to how we read the cereal.csv dataset in the tutorial\n",
    "\n",
    "import pandas as pd\n",
    "\n",
    "df = pd.read_csv(\"../data/starbucks.csv\")\n",
    "type(df)\n"
   ]
  },
  {
   "cell_type": "code",
   "execution_count": 42,
   "id": "ac0f0c12",
   "metadata": {},
   "outputs": [
    {
     "data": {
      "text/html": [
       "<div>\n",
       "<style scoped>\n",
       "    .dataframe tbody tr th:only-of-type {\n",
       "        vertical-align: middle;\n",
       "    }\n",
       "\n",
       "    .dataframe tbody tr th {\n",
       "        vertical-align: top;\n",
       "    }\n",
       "\n",
       "    .dataframe thead th {\n",
       "        text-align: right;\n",
       "    }\n",
       "</style>\n",
       "<table border=\"1\" class=\"dataframe\">\n",
       "  <thead>\n",
       "    <tr style=\"text-align: right;\">\n",
       "      <th></th>\n",
       "      <th>beverage_category</th>\n",
       "      <th>beverage</th>\n",
       "      <th>beverage_prep</th>\n",
       "      <th>calories</th>\n",
       "      <th>total fat</th>\n",
       "      <th>trans fat</th>\n",
       "      <th>saturated fat</th>\n",
       "      <th>sodium</th>\n",
       "      <th>total carbohydrates</th>\n",
       "      <th>cholesterol</th>\n",
       "      <th>dietary fibre</th>\n",
       "      <th>sugars</th>\n",
       "      <th>protein</th>\n",
       "      <th>vitamin a</th>\n",
       "      <th>vitamin c</th>\n",
       "      <th>calcium</th>\n",
       "      <th>iron</th>\n",
       "      <th>caffeine</th>\n",
       "    </tr>\n",
       "  </thead>\n",
       "  <tbody>\n",
       "    <tr>\n",
       "      <th>0</th>\n",
       "      <td>coffee</td>\n",
       "      <td>brewed coffee</td>\n",
       "      <td>Short</td>\n",
       "      <td>3</td>\n",
       "      <td>0.1</td>\n",
       "      <td>0.0</td>\n",
       "      <td>0.0</td>\n",
       "      <td>0</td>\n",
       "      <td>5</td>\n",
       "      <td>0</td>\n",
       "      <td>0</td>\n",
       "      <td>0</td>\n",
       "      <td>0.3</td>\n",
       "      <td>0</td>\n",
       "      <td>0</td>\n",
       "      <td>0</td>\n",
       "      <td>0.0</td>\n",
       "      <td>175.0</td>\n",
       "    </tr>\n",
       "    <tr>\n",
       "      <th>1</th>\n",
       "      <td>coffee</td>\n",
       "      <td>brewed coffee</td>\n",
       "      <td>Tall</td>\n",
       "      <td>4</td>\n",
       "      <td>0.1</td>\n",
       "      <td>0.0</td>\n",
       "      <td>0.0</td>\n",
       "      <td>0</td>\n",
       "      <td>10</td>\n",
       "      <td>0</td>\n",
       "      <td>0</td>\n",
       "      <td>0</td>\n",
       "      <td>0.5</td>\n",
       "      <td>0</td>\n",
       "      <td>0</td>\n",
       "      <td>0</td>\n",
       "      <td>0.0</td>\n",
       "      <td>260.0</td>\n",
       "    </tr>\n",
       "    <tr>\n",
       "      <th>2</th>\n",
       "      <td>coffee</td>\n",
       "      <td>brewed coffee</td>\n",
       "      <td>Grande</td>\n",
       "      <td>5</td>\n",
       "      <td>0.1</td>\n",
       "      <td>0.0</td>\n",
       "      <td>0.0</td>\n",
       "      <td>0</td>\n",
       "      <td>10</td>\n",
       "      <td>0</td>\n",
       "      <td>0</td>\n",
       "      <td>0</td>\n",
       "      <td>1.0</td>\n",
       "      <td>0</td>\n",
       "      <td>0</td>\n",
       "      <td>0</td>\n",
       "      <td>0.0</td>\n",
       "      <td>330.0</td>\n",
       "    </tr>\n",
       "    <tr>\n",
       "      <th>3</th>\n",
       "      <td>coffee</td>\n",
       "      <td>brewed coffee</td>\n",
       "      <td>Venti</td>\n",
       "      <td>5</td>\n",
       "      <td>0.1</td>\n",
       "      <td>0.0</td>\n",
       "      <td>0.0</td>\n",
       "      <td>0</td>\n",
       "      <td>10</td>\n",
       "      <td>0</td>\n",
       "      <td>0</td>\n",
       "      <td>0</td>\n",
       "      <td>1.0</td>\n",
       "      <td>0</td>\n",
       "      <td>0</td>\n",
       "      <td>2</td>\n",
       "      <td>0.0</td>\n",
       "      <td>410.0</td>\n",
       "    </tr>\n",
       "    <tr>\n",
       "      <th>4</th>\n",
       "      <td>classic espresso drinks</td>\n",
       "      <td>caff latte</td>\n",
       "      <td>Short Nonfat Milk</td>\n",
       "      <td>70</td>\n",
       "      <td>0.1</td>\n",
       "      <td>0.1</td>\n",
       "      <td>0.0</td>\n",
       "      <td>5</td>\n",
       "      <td>75</td>\n",
       "      <td>10</td>\n",
       "      <td>0</td>\n",
       "      <td>9</td>\n",
       "      <td>6.0</td>\n",
       "      <td>10</td>\n",
       "      <td>0</td>\n",
       "      <td>20</td>\n",
       "      <td>0.0</td>\n",
       "      <td>75.0</td>\n",
       "    </tr>\n",
       "    <tr>\n",
       "      <th>...</th>\n",
       "      <td>...</td>\n",
       "      <td>...</td>\n",
       "      <td>...</td>\n",
       "      <td>...</td>\n",
       "      <td>...</td>\n",
       "      <td>...</td>\n",
       "      <td>...</td>\n",
       "      <td>...</td>\n",
       "      <td>...</td>\n",
       "      <td>...</td>\n",
       "      <td>...</td>\n",
       "      <td>...</td>\n",
       "      <td>...</td>\n",
       "      <td>...</td>\n",
       "      <td>...</td>\n",
       "      <td>...</td>\n",
       "      <td>...</td>\n",
       "      <td>...</td>\n",
       "    </tr>\n",
       "    <tr>\n",
       "      <th>237</th>\n",
       "      <td>frappuccino blended crme</td>\n",
       "      <td>strawberries  crme (without whipped cream)</td>\n",
       "      <td>Soymilk</td>\n",
       "      <td>320</td>\n",
       "      <td>3.2</td>\n",
       "      <td>0.4</td>\n",
       "      <td>0.0</td>\n",
       "      <td>0</td>\n",
       "      <td>250</td>\n",
       "      <td>67</td>\n",
       "      <td>1</td>\n",
       "      <td>64</td>\n",
       "      <td>5.0</td>\n",
       "      <td>6</td>\n",
       "      <td>8</td>\n",
       "      <td>20</td>\n",
       "      <td>10.0</td>\n",
       "      <td>0.0</td>\n",
       "    </tr>\n",
       "    <tr>\n",
       "      <th>238</th>\n",
       "      <td>frappuccino blended crme</td>\n",
       "      <td>vanilla bean (without whipped cream)</td>\n",
       "      <td>Tall Nonfat Milk</td>\n",
       "      <td>170</td>\n",
       "      <td>0.1</td>\n",
       "      <td>0.1</td>\n",
       "      <td>0.0</td>\n",
       "      <td>0</td>\n",
       "      <td>160</td>\n",
       "      <td>39</td>\n",
       "      <td>0</td>\n",
       "      <td>38</td>\n",
       "      <td>4.0</td>\n",
       "      <td>6</td>\n",
       "      <td>0</td>\n",
       "      <td>10</td>\n",
       "      <td>0.0</td>\n",
       "      <td>0.0</td>\n",
       "    </tr>\n",
       "    <tr>\n",
       "      <th>239</th>\n",
       "      <td>frappuccino blended crme</td>\n",
       "      <td>vanilla bean (without whipped cream)</td>\n",
       "      <td>Whole Milk</td>\n",
       "      <td>200</td>\n",
       "      <td>3.5</td>\n",
       "      <td>2.0</td>\n",
       "      <td>0.1</td>\n",
       "      <td>10</td>\n",
       "      <td>160</td>\n",
       "      <td>39</td>\n",
       "      <td>0</td>\n",
       "      <td>38</td>\n",
       "      <td>3.0</td>\n",
       "      <td>6</td>\n",
       "      <td>0</td>\n",
       "      <td>10</td>\n",
       "      <td>0.0</td>\n",
       "      <td>0.0</td>\n",
       "    </tr>\n",
       "    <tr>\n",
       "      <th>240</th>\n",
       "      <td>frappuccino blended crme</td>\n",
       "      <td>vanilla bean (without whipped cream)</td>\n",
       "      <td>Soymilk</td>\n",
       "      <td>180</td>\n",
       "      <td>1.5</td>\n",
       "      <td>0.2</td>\n",
       "      <td>0.0</td>\n",
       "      <td>0</td>\n",
       "      <td>160</td>\n",
       "      <td>37</td>\n",
       "      <td>1</td>\n",
       "      <td>35</td>\n",
       "      <td>3.0</td>\n",
       "      <td>4</td>\n",
       "      <td>0</td>\n",
       "      <td>10</td>\n",
       "      <td>6.0</td>\n",
       "      <td>0.0</td>\n",
       "    </tr>\n",
       "    <tr>\n",
       "      <th>241</th>\n",
       "      <td>frappuccino blended crme</td>\n",
       "      <td>vanilla bean (without whipped cream)</td>\n",
       "      <td>Grande Nonfat Milk</td>\n",
       "      <td>240</td>\n",
       "      <td>0.1</td>\n",
       "      <td>0.1</td>\n",
       "      <td>0.0</td>\n",
       "      <td>5</td>\n",
       "      <td>230</td>\n",
       "      <td>56</td>\n",
       "      <td>0</td>\n",
       "      <td>55</td>\n",
       "      <td>5.0</td>\n",
       "      <td>8</td>\n",
       "      <td>0</td>\n",
       "      <td>15</td>\n",
       "      <td>0.0</td>\n",
       "      <td>0.0</td>\n",
       "    </tr>\n",
       "  </tbody>\n",
       "</table>\n",
       "<p>242 rows × 18 columns</p>\n",
       "</div>"
      ],
      "text/plain": [
       "            beverage_category                                    beverage  \\\n",
       "0                      coffee                               brewed coffee   \n",
       "1                      coffee                               brewed coffee   \n",
       "2                      coffee                               brewed coffee   \n",
       "3                      coffee                               brewed coffee   \n",
       "4     classic espresso drinks                                  caff latte   \n",
       "..                        ...                                         ...   \n",
       "237  frappuccino blended crme  strawberries  crme (without whipped cream)   \n",
       "238  frappuccino blended crme        vanilla bean (without whipped cream)   \n",
       "239  frappuccino blended crme        vanilla bean (without whipped cream)   \n",
       "240  frappuccino blended crme        vanilla bean (without whipped cream)   \n",
       "241  frappuccino blended crme        vanilla bean (without whipped cream)   \n",
       "\n",
       "          beverage_prep  calories  total fat  trans fat  saturated fat  \\\n",
       "0                 Short         3        0.1        0.0            0.0   \n",
       "1                  Tall         4        0.1        0.0            0.0   \n",
       "2                Grande         5        0.1        0.0            0.0   \n",
       "3                 Venti         5        0.1        0.0            0.0   \n",
       "4     Short Nonfat Milk        70        0.1        0.1            0.0   \n",
       "..                  ...       ...        ...        ...            ...   \n",
       "237             Soymilk       320        3.2        0.4            0.0   \n",
       "238    Tall Nonfat Milk       170        0.1        0.1            0.0   \n",
       "239          Whole Milk       200        3.5        2.0            0.1   \n",
       "240             Soymilk       180        1.5        0.2            0.0   \n",
       "241  Grande Nonfat Milk       240        0.1        0.1            0.0   \n",
       "\n",
       "     sodium  total carbohydrates  cholesterol  dietary fibre  sugars  protein  \\\n",
       "0         0                    5            0              0       0      0.3   \n",
       "1         0                   10            0              0       0      0.5   \n",
       "2         0                   10            0              0       0      1.0   \n",
       "3         0                   10            0              0       0      1.0   \n",
       "4         5                   75           10              0       9      6.0   \n",
       "..      ...                  ...          ...            ...     ...      ...   \n",
       "237       0                  250           67              1      64      5.0   \n",
       "238       0                  160           39              0      38      4.0   \n",
       "239      10                  160           39              0      38      3.0   \n",
       "240       0                  160           37              1      35      3.0   \n",
       "241       5                  230           56              0      55      5.0   \n",
       "\n",
       "     vitamin a  vitamin c  calcium  iron  caffeine  \n",
       "0            0          0        0   0.0     175.0  \n",
       "1            0          0        0   0.0     260.0  \n",
       "2            0          0        0   0.0     330.0  \n",
       "3            0          0        2   0.0     410.0  \n",
       "4           10          0       20   0.0      75.0  \n",
       "..         ...        ...      ...   ...       ...  \n",
       "237          6          8       20  10.0       0.0  \n",
       "238          6          0       10   0.0       0.0  \n",
       "239          6          0       10   0.0       0.0  \n",
       "240          4          0       10   6.0       0.0  \n",
       "241          8          0       15   0.0       0.0  \n",
       "\n",
       "[242 rows x 18 columns]"
      ]
     },
     "execution_count": 42,
     "metadata": {},
     "output_type": "execute_result"
    }
   ],
   "source": [
    "# @@@ Question 9: select all rows with more than and including 400 calories\n",
    "\n",
    "# Had trouble with this, promise to understand it soon\n"
   ]
  },
  {
   "cell_type": "code",
   "execution_count": null,
   "id": "ee8f8241",
   "metadata": {},
   "outputs": [],
   "source": [
    "# @@@ Question 10: select all rows whose vitamin c content is higher than the iron content\n",
    "\n",
    "# Had trouble with this, promise to understand it soon"
   ]
  },
  {
   "cell_type": "code",
   "execution_count": null,
   "id": "d4de48bb",
   "metadata": {},
   "outputs": [],
   "source": [
    "# @@@ Question 11: create a new column containing the caffeine per calories of each drink\n",
    "\n",
    "# Had trouble with this, promise to understand it soon"
   ]
  },
  {
   "cell_type": "code",
   "execution_count": null,
   "id": "d9ff226d",
   "metadata": {
    "colab": {},
    "colab_type": "code",
    "id": "rIoxaSxHshvB"
   },
   "outputs": [],
   "source": [
    "# @@@ Question 12: what is the average calorie across all items?\n",
    "\n",
    "\n",
    "# Had trouble with this, promise to understand it soon"
   ]
  },
  {
   "cell_type": "code",
   "execution_count": null,
   "id": "4f5e22c6",
   "metadata": {
    "colab": {},
    "colab_type": "code",
    "id": "ABX7i49FshvD"
   },
   "outputs": [],
   "source": [
    "# @@@ Question 13: how many different categories of beverages are there?\n",
    "# Had trouble with this, promise to understand it soon\n"
   ]
  },
  {
   "cell_type": "code",
   "execution_count": null,
   "id": "db7c90b3",
   "metadata": {
    "colab": {},
    "colab_type": "code",
    "id": "P9QatZAzshvE"
   },
   "outputs": [],
   "source": [
    "# @@@ Question 14: what is the average # calories for each beverage category?\n",
    "\n",
    "# Had trouble with this, promise to understand it soon"
   ]
  }
 ],
 "metadata": {
  "kernelspec": {
   "display_name": "Python 3 (ipykernel)",
   "language": "python",
   "name": "python3"
  },
  "language_info": {
   "codemirror_mode": {
    "name": "ipython",
    "version": 3
   },
   "file_extension": ".py",
   "mimetype": "text/x-python",
   "name": "python",
   "nbconvert_exporter": "python",
   "pygments_lexer": "ipython3",
   "version": "3.9.12"
  },
  "vscode": {
   "interpreter": {
    "hash": "6cf8df3ff69f85f626faf55c10df6fe2cb9d1236b4dc73844ee4dc01369c2c99"
   }
  }
 },
 "nbformat": 4,
 "nbformat_minor": 5
}
